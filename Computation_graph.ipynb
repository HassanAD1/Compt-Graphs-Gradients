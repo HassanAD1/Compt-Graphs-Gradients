{
 "cells": [
  {
   "cell_type": "code",
   "execution_count": 1,
   "metadata": {},
   "outputs": [],
   "source": [
    "import numpy as np"
   ]
  },
  {
   "cell_type": "code",
   "execution_count": 2,
   "metadata": {},
   "outputs": [
    {
     "data": {
      "text/plain": [
       "array([[0., 0., 0.]])"
      ]
     },
     "execution_count": 2,
     "metadata": {},
     "output_type": "execute_result"
    }
   ],
   "source": [
    "np.zeros((1,3))"
   ]
  },
  {
   "cell_type": "code",
   "execution_count": 3,
   "metadata": {},
   "outputs": [],
   "source": [
    "#making computation graph\n",
    "\n",
    "class Neuron:\n",
    "    def __init__(self, value):\n",
    "        #value\n",
    "        #local derivative\n",
    "        self.value = value\n",
    "        self.local_derivative = None\n",
    "        self.children = []\n",
    "        \n",
    "        \n",
    "    def __repr__(self):\n",
    "        return str(f'value: {self.value}, local_grad: {self.local_derivative}')\n",
    "    \n",
    "    def __mul__(self, other_neuron):\n",
    "        new_neuron = Neuron(self.value * other_neuron.value)\n",
    "        self.local_derivative = other_neuron.value\n",
    "        other_neuron.local_derivative = self.value\n",
    "        new_neuron.children = [self,other_neuron]\n",
    "        return new_neuron\n",
    "        \n",
    "    def __add__(self, other_neuron):\n",
    "        new_neuron = Neuron(self.value + other_neuron.value)\n",
    "        self.local_derivative = 1\n",
    "        other_neuron.local_derivative = 1\n",
    "        new_neuron.children = [self,other_neuron]\n",
    "        return new_neuron\n",
    "    \n",
    "    def __truediv__(self,other_neuron):\n",
    "        return self * other_neuron.mul_inverse()\n",
    "    \n",
    "    \n",
    "    def mul_inverse (self):\n",
    "        new_neuron = Neuron(1/self.value)\n",
    "        self.local_derivative = -1/(self.value**2)\n",
    "        new_neuron.children = [self]\n",
    "        return new_neuron\n",
    "        \n",
    "    \n",
    "    def log(self):\n",
    "        new_neuron = Neuron(np.log(self.value))\n",
    "        self.local_derivative = 1/self.value\n",
    "        new_neuron.children = [self]\n",
    "        return new_neuron\n",
    "         \n",
    "        \n",
    "    def exp(self):\n",
    "        new_neuron = Neuron(np.exp(self.value))\n",
    "        self.local_derivative = np.exp(self.value)\n",
    "        new_neuron.children = [self]\n",
    "        return new_neuron\n",
    "        \n",
    "        "
   ]
  },
  {
   "cell_type": "markdown",
   "metadata": {},
   "source": [
    "$y = w1 \\times a \\times w2 \\times b$"
   ]
  },
  {
   "cell_type": "code",
   "execution_count": 4,
   "metadata": {},
   "outputs": [],
   "source": [
    "a = Neuron(3)\n",
    "b = Neuron(4)\n",
    "w1 = Neuron(5)\n",
    "w2 = Neuron(2)"
   ]
  },
  {
   "cell_type": "code",
   "execution_count": 5,
   "metadata": {},
   "outputs": [],
   "source": [
    "y =(w1 * a * w2) / b"
   ]
  },
  {
   "cell_type": "code",
   "execution_count": 6,
   "metadata": {
    "scrolled": true
   },
   "outputs": [],
   "source": [
    "y.local_derivative = 1"
   ]
  },
  {
   "cell_type": "code",
   "execution_count": 7,
   "metadata": {},
   "outputs": [],
   "source": [
    "root = y\n",
    "stack = [root]\n",
    "while len(stack) != 0:\n",
    "    root = stack.pop()\n",
    "    for child in root.children:\n",
    "        child.local_derivative *= root.local_derivative\n",
    "        stack.append(child)\n"
   ]
  },
  {
   "cell_type": "code",
   "execution_count": 8,
   "metadata": {},
   "outputs": [
    {
     "data": {
      "text/plain": [
       "value: 4, local_grad: -1.875"
      ]
     },
     "execution_count": 8,
     "metadata": {},
     "output_type": "execute_result"
    }
   ],
   "source": [
    "b"
   ]
  },
  {
   "cell_type": "code",
   "execution_count": 9,
   "metadata": {},
   "outputs": [],
   "source": [
    "def f(x):\n",
    "    return 30/x\n"
   ]
  },
  {
   "cell_type": "code",
   "execution_count": 10,
   "metadata": {},
   "outputs": [
    {
     "data": {
      "text/plain": [
       "-1.8749979346921464"
      ]
     },
     "execution_count": 10,
     "metadata": {},
     "output_type": "execute_result"
    }
   ],
   "source": [
    "x = 4\n",
    "h =1e-10\n",
    "(f(x+h)-f(x))/h"
   ]
  }
 ],
 "metadata": {
  "kernelspec": {
   "display_name": "Python 3 (ipykernel)",
   "language": "python",
   "name": "python3"
  },
  "language_info": {
   "codemirror_mode": {
    "name": "ipython",
    "version": 3
   },
   "file_extension": ".py",
   "mimetype": "text/x-python",
   "name": "python",
   "nbconvert_exporter": "python",
   "pygments_lexer": "ipython3",
   "version": "3.9.7"
  }
 },
 "nbformat": 4,
 "nbformat_minor": 4
}
