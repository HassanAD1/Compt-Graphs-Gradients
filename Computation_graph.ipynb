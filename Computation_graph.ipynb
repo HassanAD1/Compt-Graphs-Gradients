{
 "cells": [
  {
   "cell_type": "code",
   "execution_count": 1,
   "metadata": {},
   "outputs": [],
   "source": [
    "import numpy as np"
   ]
  },
  {
   "cell_type": "code",
   "execution_count": 2,
   "metadata": {},
   "outputs": [],
   "source": [
    "#making computation graph\n",
    "\n",
    "class Neuron:\n",
    "    def __init__(self, value):\n",
    "        #value\n",
    "        #local derivative\n",
    "        self.value = value\n",
    "        self.local_derivative = None\n",
    "        self.children = []\n",
    "        \n",
    "        \n",
    "    def __repr__(self):\n",
    "        return str(f'value: {self.value}, local_grad: {self.local_derivative}')\n",
    "    \n",
    "    def __mul__(self, other_neuron):\n",
    "        #if not a neuron then create a neuron\n",
    "        if not isinstance(other_neuron, Neuron):\n",
    "            other_neuron = Neuron(other_neuron)\n",
    "        new_neuron = Neuron(self.value * other_neuron.value)\n",
    "        self.local_derivative = other_neuron.value\n",
    "        other_neuron.local_derivative = self.value\n",
    "        new_neuron.children = [self,other_neuron]\n",
    "        return new_neuron\n",
    "        \n",
    "    def __add__(self, other_neuron):\n",
    "        if not isinstance(other_neuron, Neuron):\n",
    "            other_neuron = Neuron(other_neuron)\n",
    "        new_neuron = Neuron(self.value + other_neuron.value)\n",
    "        self.local_derivative = 1\n",
    "        other_neuron.local_derivative = 1\n",
    "        new_neuron.children = [self,other_neuron]\n",
    "        return new_neuron\n",
    "    #setting right add and mul to mul and add\n",
    "    __radd__ = __add__\n",
    "    __rmul__ = __mul__\n",
    "    def __neg__(self):\n",
    "        minus_one = Neuron(-1)\n",
    "        return self * minus_one\n",
    "    \n",
    "    def __sub__(self, other_neuron):\n",
    "        if not isinstance(other_neuron, Neuron):\n",
    "            other_neuron = Neuron(other_neuron)\n",
    "        return self + (-other_neuron)\n",
    "    \n",
    "    def __rsub__(self, other_neuron):\n",
    "        if not isinstance(other_neuron, Neuron):\n",
    "            other_neuron = Neuron(other_neuron)\n",
    "        return other_neuron + -(self)\n",
    "    \n",
    "    def __truediv__(self,other_neuron):\n",
    "        if not isinstance(other_neuron, Neuron):\n",
    "            other_neuron = Neuron(other_neuron)\n",
    "        return self * other_neuron.mul_inverse()\n",
    "    \n",
    "    def __rtruediv__(self,other_neuron):\n",
    "        if not isinstance(other_neuron, Neuron):\n",
    "            other_neuron = Neuron(other_neuron)\n",
    "        return self.mul_inverse() * other_neuron\n",
    "    \n",
    "    def mul_inverse (self):\n",
    "        new_neuron = Neuron(1/self.value)\n",
    "        self.local_derivative = -1/(self.value**2)\n",
    "        new_neuron.children = [self]\n",
    "        return new_neuron\n",
    "        \n",
    "    \n",
    "    def log(self):\n",
    "        new_neuron = Neuron(np.log(self.value))\n",
    "        self.local_derivative = 1/self.value\n",
    "        new_neuron.children = [self]\n",
    "        return new_neuron\n",
    "         \n",
    "        \n",
    "    def exp(self):\n",
    "        new_neuron = Neuron(np.exp(self.value))\n",
    "        self.local_derivative = np.exp(self.value)\n",
    "        new_neuron.children = [self]\n",
    "        return new_neuron\n",
    "        \n",
    "    def backward(self):\n",
    "        assert self.local_derivative is None\n",
    "        self.local_derivative = 1\n",
    "        root = self\n",
    "        stack = [root]\n",
    "        while len(stack) != 0:\n",
    "            root = stack.pop()\n",
    "            for child in root.children:\n",
    "                child.local_derivative *= root.local_derivative\n",
    "                stack.append(child)\n",
    "        "
   ]
  },
  {
   "cell_type": "code",
   "execution_count": 3,
   "metadata": {},
   "outputs": [
    {
     "data": {
      "text/plain": [
       "(value: 4, local_grad: None, value: 4, local_grad: None)"
      ]
     },
     "execution_count": 3,
     "metadata": {},
     "output_type": "execute_result"
    }
   ],
   "source": [
    "a = Neuron(3)\n",
    "a + 1, 1 + a"
   ]
  },
  {
   "cell_type": "code",
   "execution_count": 4,
   "metadata": {},
   "outputs": [
    {
     "data": {
      "text/plain": [
       "(value: 3, local_grad: None, value: 3, local_grad: None)"
      ]
     },
     "execution_count": 4,
     "metadata": {},
     "output_type": "execute_result"
    }
   ],
   "source": [
    "a * 1, 1*a"
   ]
  },
  {
   "cell_type": "code",
   "execution_count": 5,
   "metadata": {},
   "outputs": [
    {
     "data": {
      "text/plain": [
       "(value: 2, local_grad: None, value: -2, local_grad: None)"
      ]
     },
     "execution_count": 5,
     "metadata": {},
     "output_type": "execute_result"
    }
   ],
   "source": [
    "a - 1, 1 - a"
   ]
  },
  {
   "cell_type": "code",
   "execution_count": 6,
   "metadata": {},
   "outputs": [
    {
     "data": {
      "text/plain": [
       "(value: 3.0, local_grad: None, value: 0.3333333333333333, local_grad: None)"
      ]
     },
     "execution_count": 6,
     "metadata": {},
     "output_type": "execute_result"
    }
   ],
   "source": [
    "a / 1, 1 / a"
   ]
  },
  {
   "cell_type": "markdown",
   "metadata": {},
   "source": [
    "$$\n",
    "y = a - b\n",
    "$$"
   ]
  },
  {
   "cell_type": "code",
   "execution_count": 7,
   "metadata": {},
   "outputs": [],
   "source": [
    "a = Neuron(3)\n",
    "b = Neuron(2)\n",
    "y = a - b"
   ]
  },
  {
   "cell_type": "code",
   "execution_count": 8,
   "metadata": {},
   "outputs": [],
   "source": [
    "y.backward()"
   ]
  },
  {
   "cell_type": "code",
   "execution_count": 9,
   "metadata": {},
   "outputs": [
    {
     "data": {
      "text/plain": [
       "value: 3, local_grad: 1"
      ]
     },
     "execution_count": 9,
     "metadata": {},
     "output_type": "execute_result"
    }
   ],
   "source": [
    "a"
   ]
  },
  {
   "cell_type": "code",
   "execution_count": 10,
   "metadata": {},
   "outputs": [
    {
     "data": {
      "text/plain": [
       "value: 2, local_grad: -1"
      ]
     },
     "execution_count": 10,
     "metadata": {},
     "output_type": "execute_result"
    }
   ],
   "source": [
    "b"
   ]
  },
  {
   "cell_type": "markdown",
   "metadata": {},
   "source": [
    "Sigmoid"
   ]
  },
  {
   "cell_type": "markdown",
   "metadata": {},
   "source": [
    "$$\n",
    "y = \\frac{1}{1 + e^{ - (x \\times w + b)}}\n",
    "$$"
   ]
  },
  {
   "cell_type": "code",
   "execution_count": 11,
   "metadata": {},
   "outputs": [],
   "source": [
    "x = Neuron(3)\n",
    "w = Neuron(2)\n",
    "b = Neuron(1)\n",
    "y = 1 / (1 + (-(x * w + b)).exp())"
   ]
  },
  {
   "cell_type": "code",
   "execution_count": 12,
   "metadata": {
    "scrolled": true
   },
   "outputs": [],
   "source": [
    "y.backward()"
   ]
  },
  {
   "cell_type": "code",
   "execution_count": 13,
   "metadata": {},
   "outputs": [
    {
     "data": {
      "text/plain": [
       "(value: 3, local_grad: 0.001820442360243653,\n",
       " value: 2, local_grad: 0.0027306635403654797,\n",
       " value: 1, local_grad: 0.0009102211801218265)"
      ]
     },
     "execution_count": 13,
     "metadata": {},
     "output_type": "execute_result"
    }
   ],
   "source": [
    "x, w, b"
   ]
  },
  {
   "cell_type": "code",
   "execution_count": 14,
   "metadata": {},
   "outputs": [],
   "source": [
    "d_sigmoid = y.value * (1- y.value)"
   ]
  },
  {
   "cell_type": "code",
   "execution_count": 15,
   "metadata": {},
   "outputs": [
    {
     "data": {
      "text/plain": [
       "0.000910221180121784"
      ]
     },
     "execution_count": 15,
     "metadata": {},
     "output_type": "execute_result"
    }
   ],
   "source": [
    "d_sigmoid * 1"
   ]
  },
  {
   "cell_type": "code",
   "execution_count": 17,
   "metadata": {},
   "outputs": [
    {
     "data": {
      "text/plain": [
       "0.001820442360243568"
      ]
     },
     "execution_count": 17,
     "metadata": {},
     "output_type": "execute_result"
    }
   ],
   "source": [
    "d_sigmoid*w.value"
   ]
  },
  {
   "cell_type": "code",
   "execution_count": 18,
   "metadata": {},
   "outputs": [
    {
     "data": {
      "text/plain": [
       "0.0027306635403653522"
      ]
     },
     "execution_count": 18,
     "metadata": {},
     "output_type": "execute_result"
    }
   ],
   "source": [
    "d_sigmoid*x.value"
   ]
  },
  {
   "cell_type": "code",
   "execution_count": null,
   "metadata": {},
   "outputs": [],
   "source": []
  },
  {
   "cell_type": "code",
   "execution_count": null,
   "metadata": {},
   "outputs": [],
   "source": []
  },
  {
   "cell_type": "code",
   "execution_count": null,
   "metadata": {},
   "outputs": [],
   "source": []
  },
  {
   "cell_type": "code",
   "execution_count": null,
   "metadata": {},
   "outputs": [],
   "source": []
  }
 ],
 "metadata": {
  "kernelspec": {
   "display_name": "Python 3",
   "language": "python",
   "name": "python3"
  },
  "language_info": {
   "codemirror_mode": {
    "name": "ipython",
    "version": 3
   },
   "file_extension": ".py",
   "mimetype": "text/x-python",
   "name": "python",
   "nbconvert_exporter": "python",
   "pygments_lexer": "ipython3",
   "version": "3.8.10"
  }
 },
 "nbformat": 4,
 "nbformat_minor": 4
}
