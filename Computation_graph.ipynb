{
 "cells": [
  {
   "cell_type": "code",
   "execution_count": 1,
   "metadata": {},
   "outputs": [],
   "source": [
    "import numpy as np"
   ]
  },
  {
   "cell_type": "code",
   "execution_count": 21,
   "metadata": {},
   "outputs": [],
   "source": [
    "def f( x:[int, float]) -> [int, float]:\n",
    "    return x * 10"
   ]
  },
  {
   "cell_type": "code",
   "execution_count": 92,
   "metadata": {},
   "outputs": [],
   "source": [
    "#making computation graph\n",
    "\n",
    "class Neuron:\n",
    "    def __init__(self, value):\n",
    "        #value\n",
    "        #local derivative\n",
    "        self.value = value\n",
    "        self.local_derivative = None\n",
    "        self.children = []\n",
    "        \n",
    "        \n",
    "    def __repr__(self):\n",
    "        return str(f'value: {self.value}, local_grad: {self.local_derivative}')\n",
    "    \n",
    "    def __mul__(self, other_neuron):\n",
    "        #if not a neuron then create a neuron\n",
    "        if not isinstance(other_neuron, Neuron):\n",
    "            other_neuron = Neuron(other_neuron)\n",
    "        new_neuron = Neuron(self.value * other_neuron.value)\n",
    "        self.local_derivative = other_neuron.value\n",
    "        other_neuron.local_derivative = self.value\n",
    "        new_neuron.children = [self,other_neuron]\n",
    "        return new_neuron\n",
    "        \n",
    "    def __add__(self, other_neuron):\n",
    "        if not isinstance(other_neuron, Neuron):\n",
    "            other_neuron = Neuron(other_neuron)\n",
    "        new_neuron = Neuron(self.value + other_neuron.value)\n",
    "        self.local_derivative = 1\n",
    "        other_neuron.local_derivative = 1\n",
    "        new_neuron.children = [self,other_neuron]\n",
    "        return new_neuron\n",
    "    #setting right add and mul to mul and add\n",
    "    __radd__ = __add__\n",
    "    __rmul__ = __mul__\n",
    "    def __neg__(self):\n",
    "        minus_one = Neuron(-1)\n",
    "        return self * minus_one\n",
    "    \n",
    "    def __sub__(self, other_neuron):\n",
    "        if not isinstance(other_neuron, Neuron):\n",
    "            other_neuron = Neuron(other_neuron)\n",
    "        return self + (-other_neuron)\n",
    "    \n",
    "    def __rsub__(self, other_neuron):\n",
    "        if not isinstance(other_neuron, Neuron):\n",
    "            other_neuron = Neuron(other_neuron)\n",
    "        return other_neuron + -(self)\n",
    "    \n",
    "    def __truediv__(self,other_neuron):\n",
    "        if not isinstance(other_neuron, Neuron):\n",
    "            other_neuron = Neuron(other_neuron)\n",
    "        return self * other_neuron.mul_inverse()\n",
    "    \n",
    "    def __rtruediv__(self,other_neuron):\n",
    "        if not isinstance(other_neuron, Neuron):\n",
    "            other_neuron = Neuron(other_neuron)\n",
    "        return self.mul_inverse() * other_neuron\n",
    "    \n",
    "    def mul_inverse (self):\n",
    "        new_neuron = Neuron(1/self.value)\n",
    "        self.local_derivative = -1/(self.value**2)\n",
    "        new_neuron.children = [self]\n",
    "        return new_neuron\n",
    "        \n",
    "    \n",
    "    def log(self):\n",
    "        new_neuron = Neuron(np.log(self.value))\n",
    "        self.local_derivative = 1/self.value\n",
    "        new_neuron.children = [self]\n",
    "        return new_neuron\n",
    "         \n",
    "        \n",
    "    def exp(self):\n",
    "        new_neuron = Neuron(np.exp(self.value))\n",
    "        self.local_derivative = np.exp(self.value)\n",
    "        new_neuron.children = [self]\n",
    "        return new_neuron\n",
    "        \n",
    "    def backward(self):\n",
    "        assert self.local_derivative is None\n",
    "        self.local_derivative = 1\n",
    "        root = self\n",
    "        stack = [root]\n",
    "        while len(stack) != 0:\n",
    "            root = stack.pop()\n",
    "            for child in root.children:\n",
    "                child.local_derivative *= root.local_derivative\n",
    "                stack.append(child)\n",
    "        "
   ]
  },
  {
   "cell_type": "code",
   "execution_count": 93,
   "metadata": {},
   "outputs": [
    {
     "data": {
      "text/plain": [
       "(value: 4, local_grad: None, value: 4, local_grad: None)"
      ]
     },
     "execution_count": 93,
     "metadata": {},
     "output_type": "execute_result"
    }
   ],
   "source": [
    "a = Neuron(3)\n",
    "a + 1, 1 + a"
   ]
  },
  {
   "cell_type": "code",
   "execution_count": 94,
   "metadata": {},
   "outputs": [
    {
     "data": {
      "text/plain": [
       "(value: 3, local_grad: None, value: 3, local_grad: None)"
      ]
     },
     "execution_count": 94,
     "metadata": {},
     "output_type": "execute_result"
    }
   ],
   "source": [
    "a * 1, 1*a"
   ]
  },
  {
   "cell_type": "code",
   "execution_count": 95,
   "metadata": {},
   "outputs": [
    {
     "data": {
      "text/plain": [
       "(value: 2, local_grad: None, value: -2, local_grad: None)"
      ]
     },
     "execution_count": 95,
     "metadata": {},
     "output_type": "execute_result"
    }
   ],
   "source": [
    "a - 1, 1 - a"
   ]
  },
  {
   "cell_type": "code",
   "execution_count": 96,
   "metadata": {},
   "outputs": [
    {
     "data": {
      "text/plain": [
       "(value: 3.0, local_grad: None, value: 0.3333333333333333, local_grad: None)"
      ]
     },
     "execution_count": 96,
     "metadata": {},
     "output_type": "execute_result"
    }
   ],
   "source": [
    "a / 1, 1 / a"
   ]
  },
  {
   "cell_type": "code",
   "execution_count": null,
   "metadata": {},
   "outputs": [],
   "source": []
  },
  {
   "cell_type": "markdown",
   "metadata": {},
   "source": [
    "$$\n",
    "y = a - b\n",
    "$$"
   ]
  },
  {
   "cell_type": "code",
   "execution_count": 83,
   "metadata": {},
   "outputs": [],
   "source": [
    "a = Neuron(3)\n",
    "b = Neuron(2)\n",
    "y = a*3 - b*2"
   ]
  },
  {
   "cell_type": "code",
   "execution_count": 84,
   "metadata": {},
   "outputs": [],
   "source": [
    "y.backward()"
   ]
  },
  {
   "cell_type": "code",
   "execution_count": 85,
   "metadata": {},
   "outputs": [
    {
     "data": {
      "text/plain": [
       "value: 3, local_grad: 3"
      ]
     },
     "execution_count": 85,
     "metadata": {},
     "output_type": "execute_result"
    }
   ],
   "source": [
    "a"
   ]
  },
  {
   "cell_type": "code",
   "execution_count": 86,
   "metadata": {},
   "outputs": [
    {
     "data": {
      "text/plain": [
       "value: 2, local_grad: -2"
      ]
     },
     "execution_count": 86,
     "metadata": {},
     "output_type": "execute_result"
    }
   ],
   "source": [
    "b"
   ]
  },
  {
   "cell_type": "markdown",
   "metadata": {},
   "source": [
    "$$\n",
    "y = \\frac{1}{1 + e^{ - (x \\times w1 + b)}}\n",
    "$$"
   ]
  },
  {
   "cell_type": "code",
   "execution_count": 51,
   "metadata": {},
   "outputs": [
    {
     "ename": "TypeError",
     "evalue": "unsupported operand type(s) for +: 'int' and 'Neuron'",
     "output_type": "error",
     "traceback": [
      "\u001b[0;31m---------------------------------------------------------------------------\u001b[0m",
      "\u001b[0;31mTypeError\u001b[0m                                 Traceback (most recent call last)",
      "\u001b[0;32m<ipython-input-51-4d3c4a06f42c>\u001b[0m in \u001b[0;36m<module>\u001b[0;34m\u001b[0m\n\u001b[1;32m      2\u001b[0m \u001b[0mw\u001b[0m \u001b[0;34m=\u001b[0m \u001b[0mNeuron\u001b[0m\u001b[0;34m(\u001b[0m\u001b[0;36m4\u001b[0m\u001b[0;34m)\u001b[0m\u001b[0;34m\u001b[0m\u001b[0;34m\u001b[0m\u001b[0m\n\u001b[1;32m      3\u001b[0m \u001b[0mb\u001b[0m \u001b[0;34m=\u001b[0m \u001b[0mNeuron\u001b[0m\u001b[0;34m(\u001b[0m\u001b[0;36m5\u001b[0m\u001b[0;34m)\u001b[0m\u001b[0;34m\u001b[0m\u001b[0;34m\u001b[0m\u001b[0m\n\u001b[0;32m----> 4\u001b[0;31m \u001b[0my\u001b[0m \u001b[0;34m=\u001b[0m \u001b[0;36m1\u001b[0m \u001b[0;34m/\u001b[0m \u001b[0;34m(\u001b[0m\u001b[0;36m1\u001b[0m \u001b[0;34m+\u001b[0m \u001b[0;34m(\u001b[0m\u001b[0;34m-\u001b[0m\u001b[0;34m(\u001b[0m\u001b[0mx\u001b[0m \u001b[0;34m*\u001b[0m \u001b[0mw\u001b[0m \u001b[0;34m+\u001b[0m \u001b[0mb\u001b[0m\u001b[0;34m)\u001b[0m\u001b[0;34m)\u001b[0m\u001b[0;34m.\u001b[0m\u001b[0mexp\u001b[0m\u001b[0;34m(\u001b[0m\u001b[0;34m)\u001b[0m\u001b[0;34m)\u001b[0m\u001b[0;34m\u001b[0m\u001b[0;34m\u001b[0m\u001b[0m\n\u001b[0m",
      "\u001b[0;31mTypeError\u001b[0m: unsupported operand type(s) for +: 'int' and 'Neuron'"
     ]
    }
   ],
   "source": [
    "x = Neuron(3)\n",
    "w = Neuron(4)\n",
    "b = Neuron(5)\n",
    "y = 1 / (1 + (-(x * w + b)).exp())"
   ]
  },
  {
   "cell_type": "code",
   "execution_count": null,
   "metadata": {
    "scrolled": true
   },
   "outputs": [],
   "source": []
  },
  {
   "cell_type": "code",
   "execution_count": null,
   "metadata": {},
   "outputs": [],
   "source": []
  },
  {
   "cell_type": "code",
   "execution_count": 38,
   "metadata": {},
   "outputs": [],
   "source": [
    "y.backward()\n",
    "\n"
   ]
  },
  {
   "cell_type": "code",
   "execution_count": 41,
   "metadata": {},
   "outputs": [
    {
     "data": {
      "text/plain": [
       "(value: 3, local_grad: 2.5,\n",
       " value: 4, local_grad: -1.875,\n",
       " value: 5, local_grad: 1.5,\n",
       " value: 2, local_grad: 3.75)"
      ]
     },
     "execution_count": 41,
     "metadata": {},
     "output_type": "execute_result"
    }
   ],
   "source": [
    "a,b,w1,w2,"
   ]
  },
  {
   "cell_type": "code",
   "execution_count": null,
   "metadata": {},
   "outputs": [],
   "source": []
  },
  {
   "cell_type": "code",
   "execution_count": null,
   "metadata": {},
   "outputs": [],
   "source": []
  }
 ],
 "metadata": {
  "kernelspec": {
   "display_name": "Python 3",
   "language": "python",
   "name": "python3"
  },
  "language_info": {
   "codemirror_mode": {
    "name": "ipython",
    "version": 3
   },
   "file_extension": ".py",
   "mimetype": "text/x-python",
   "name": "python",
   "nbconvert_exporter": "python",
   "pygments_lexer": "ipython3",
   "version": "3.8.10"
  }
 },
 "nbformat": 4,
 "nbformat_minor": 4
}
